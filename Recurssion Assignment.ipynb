{
 "cells": [
  {
   "cell_type": "markdown",
   "id": "89c3b332-2ada-4933-a3f2-74a3af785129",
   "metadata": {},
   "source": [
    "### Q.1 Can you explain the logic and working of the Tower of Hanoi algorithm by writing a Java program? How does the recursion work, and how are the movements of disks between rods accomplished?"
   ]
  },
  {
   "cell_type": "code",
   "execution_count": 24,
   "id": "29f5c5fa-fe36-4d6b-90a3-66a42c6240bc",
   "metadata": {},
   "outputs": [
    {
     "name": "stdout",
     "output_type": "stream",
     "text": [
      "15\n"
     ]
    }
   ],
   "source": [
    "#recursive code for tower of hanoi\n",
    "def count_moves(n,s,d,a):\n",
    "    '''s=source\n",
    "       d=destination\n",
    "       a=auxulary tower'''\n",
    "    if n==1:\n",
    "        return 1\n",
    "    #add count of moves taken to move n-1 pieces from source to auxlary\n",
    "    #one for the last disk to move from source to destinaton\n",
    "    #and count of moves taken to move n-1 pieces from auxlary to destnation again\n",
    "    #calling the function recursively\n",
    "    return count_moves(n-1,s,a,d)+1+count_moves(n-1,a,d,s)\n",
    "#example useage:\n",
    "print(count_moves(4,\"s\",\"d\",\"a\"))"
   ]
  },
  {
   "cell_type": "markdown",
   "id": "b5cb562b-6349-491e-9249-19604c6debfb",
   "metadata": {
    "tags": []
   },
   "source": [
    "### Q.2 Given two strings word1 and word2, return the minimum number of operations required to convert word1 to word2."
   ]
  },
  {
   "cell_type": "code",
   "execution_count": 25,
   "id": "d48398e3-6dd0-424e-b07d-f445c4236b9b",
   "metadata": {},
   "outputs": [
    {
     "name": "stdout",
     "output_type": "stream",
     "text": [
      "Example 1:  3\n",
      "Example 2:  5\n"
     ]
    }
   ],
   "source": [
    "def min_operations(word1, word2, m, n):\n",
    "    # Base cases\n",
    "    if m == 0:\n",
    "        return n\n",
    "    if n == 0:\n",
    "        return m\n",
    "\n",
    "    # If the last characters are the same, no operation is needed\n",
    "    if word1[m - 1] == word2[n - 1]:\n",
    "        return min_operations(word1, word2, m - 1, n - 1)\n",
    "\n",
    "    # If the last characters are different, consider all possible operations\n",
    "    return 1 + min(\n",
    "        min_operations(word1, word2, m, n - 1),# Insert\n",
    "        min_operations(word1, word2, m - 1, n),# Remove\n",
    "        min_operations(word1, word2, m - 1, n - 1),# Replace\n",
    "    )\n",
    "\n",
    "# Example usage:\n",
    "word1_1, word2_1 = \"horse\", \"ros\"\n",
    "result_1 = min_operations(word1_1, word2_1, len(word1_1), len(word2_1))\n",
    "print(\"Example 1: \", result_1)\n",
    "\n",
    "word1_2, word2_2 = \"intention\", \"execution\"\n",
    "result_2 = min_operations(word1_2, word2_2, len(word1_2), len(word2_2))\n",
    "print(\"Example 2: \", result_2)"
   ]
  },
  {
   "cell_type": "markdown",
   "id": "50209b5f-17a6-4176-a6dc-6b45363ffe4b",
   "metadata": {},
   "source": [
    "### Q. 3 Print the max value of the array [ 13, 1, -3, 22, 5]."
   ]
  },
  {
   "cell_type": "code",
   "execution_count": 26,
   "id": "46099412-4666-4557-a7c4-edad8d1a1052",
   "metadata": {},
   "outputs": [
    {
     "name": "stdout",
     "output_type": "stream",
     "text": [
      "Max value in the array: 22\n"
     ]
    }
   ],
   "source": [
    "def find_max(arr, n):\n",
    "    # Base case: If there is only one element, return it\n",
    "    if n == 1:\n",
    "        return arr[0]\n",
    "    # Recursive case: Find the maximum of the rest of the array\n",
    "    max_rest = find_max(arr, n - 1)\n",
    "    # Compare the maximum of the rest with the current element\n",
    "    return max_rest if max_rest > arr[n - 1] else arr[n - 1]\n",
    "\n",
    "# Example usage\n",
    "arr = [13, 1, -3, 22, 5]\n",
    "max_value = find_max(arr, len(arr))\n",
    "print(\"Max value in the array:\", max_value)"
   ]
  },
  {
   "cell_type": "markdown",
   "id": "d17921be-e16c-4826-baa2-87a109944ef9",
   "metadata": {
    "tags": []
   },
   "source": [
    "### Q.4 Find the sum of the values of the array [92, 23, 15, -20, 10]."
   ]
  },
  {
   "cell_type": "code",
   "execution_count": 27,
   "id": "821a030e-7234-47f5-976d-3b358f181b6e",
   "metadata": {},
   "outputs": [
    {
     "name": "stdout",
     "output_type": "stream",
     "text": [
      "Sum of the array elements: 120\n"
     ]
    }
   ],
   "source": [
    "def find_sum(arr, n):\n",
    "    # Base case: If there are no elements, return 0\n",
    "    if n == 0:\n",
    "        return 0\n",
    "    # Recursive case: Find the sum of the rest of the array\n",
    "    return arr[n - 1] + find_sum(arr, n - 1)\n",
    "\n",
    "# Example usage\n",
    "arr_sum = [92, 23, 15, -20, 10]\n",
    "total_sum = find_sum(arr_sum, len(arr_sum))\n",
    "print(\"Sum of the array elements:\", total_sum)"
   ]
  },
  {
   "cell_type": "markdown",
   "id": "f0f1b728-748f-4857-97a8-0342dab5b07f",
   "metadata": {
    "tags": []
   },
   "source": [
    "### Q.5 Given a number n. Print if it is an armstrong number or not.An armstrong number is a number if the sum of every digit in that number raised to the power of total digits in that number is equal to the number."
   ]
  },
  {
   "cell_type": "code",
   "execution_count": 28,
   "id": "e1b3e1b1-1489-4403-ac9f-d05076d2c532",
   "metadata": {},
   "outputs": [
    {
     "name": "stdout",
     "output_type": "stream",
     "text": [
      "1634 is Armstrong number: True\n"
     ]
    }
   ],
   "source": [
    "def is_armstrong_number(n):\n",
    "    # Base case: If n is a single-digit number, return True\n",
    "    if n < 10:\n",
    "        return True\n",
    "    # Recursive case: Check if n is an Armstrong number\n",
    "    num_digits = len(str(n))\n",
    "    sum_of_digits = sum(int(digit) ** num_digits for digit in str(n))\n",
    "    return n == sum_of_digits\n",
    "\n",
    "# Example usage\n",
    "armstrong_num = 1634\n",
    "result = is_armstrong_number(armstrong_num)\n",
    "print(f\"{armstrong_num} is Armstrong number: {result}\")"
   ]
  },
  {
   "cell_type": "code",
   "execution_count": null,
   "id": "d9d7ae2d-d17e-4365-825e-bb6d40e3f672",
   "metadata": {},
   "outputs": [],
   "source": []
  }
 ],
 "metadata": {
  "kernelspec": {
   "display_name": "Python 3 (ipykernel)",
   "language": "python",
   "name": "python3"
  },
  "language_info": {
   "codemirror_mode": {
    "name": "ipython",
    "version": 3
   },
   "file_extension": ".py",
   "mimetype": "text/x-python",
   "name": "python",
   "nbconvert_exporter": "python",
   "pygments_lexer": "ipython3",
   "version": "3.10.8"
  }
 },
 "nbformat": 4,
 "nbformat_minor": 5
}
